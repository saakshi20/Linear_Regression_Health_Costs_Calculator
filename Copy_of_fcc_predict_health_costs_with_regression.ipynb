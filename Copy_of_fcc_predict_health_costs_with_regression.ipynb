{
  "cells": [
    {
      "cell_type": "markdown",
      "metadata": {
        "id": "view-in-github",
        "colab_type": "text"
      },
      "source": [
        "<a href=\"https://colab.research.google.com/github/saakshi20/Linear_Regression_Health_Costs_Calculator/blob/main/Copy_of_fcc_predict_health_costs_with_regression.ipynb\" target=\"_parent\"><img src=\"https://colab.research.google.com/assets/colab-badge.svg\" alt=\"Open In Colab\"/></a>"
      ]
    },
    {
      "cell_type": "code",
      "execution_count": null,
      "metadata": {
        "id": "1rRo8oNqZ-Rj"
      },
      "outputs": [],
      "source": [
        "# Import libraries. You may or may not use all of these.\n",
        "!pip install -q git+https://github.com/tensorflow/docs\n",
        "import matplotlib.pyplot as plt\n",
        "import numpy as np\n",
        "import pandas as pd\n",
        "\n",
        "try:\n",
        "  # %tensorflow_version only exists in Colab.\n",
        "  %tensorflow_version 2.x\n",
        "except Exception:\n",
        "  pass\n",
        "import tensorflow as tf\n",
        "\n",
        "from tensorflow import keras\n",
        "from tensorflow.keras import layers\n",
        "\n",
        "import tensorflow_docs as tfdocs\n",
        "import tensorflow_docs.plots\n",
        "import tensorflow_docs.modeling"
      ]
    },
    {
      "cell_type": "code",
      "execution_count": null,
      "metadata": {
        "id": "CiX2FI4gZtTt"
      },
      "outputs": [],
      "source": [
        "# Import data\n",
        "!wget https://cdn.freecodecamp.org/project-data/health-costs/insurance.csv\n",
        "dataset = pd.read_csv('insurance.csv')\n",
        "dataset.tail()"
      ]
    },
    {
      "cell_type": "code",
      "execution_count": null,
      "metadata": {
        "id": "LcopvQh3X-kX"
      },
      "outputs": [],
      "source": [
        "# Encode categorical variables\n",
        "dataset = pd.get_dummies(dataset, columns=['sex', 'smoker', 'region'], drop_first=True)\n",
        "\n",
        "# Split into train (80%) and test (20%) sets\n",
        "from sklearn.model_selection import train_test_split\n",
        "\n",
        "train_dataset, test_dataset = train_test_split(dataset, test_size=0.2, random_state=42)\n",
        "\n",
        "# Separate labels (expenses) from features\n",
        "train_labels = train_dataset.pop('expenses')\n",
        "test_labels = test_dataset.pop('expenses')\n"
      ]
    },
    {
      "cell_type": "code",
      "source": [
        "# Normalize the data\n",
        "train_stats = train_dataset.describe().transpose()\n",
        "\n",
        "def norm(x):\n",
        "    return (x - train_stats['mean']) / train_stats['std']\n",
        "\n",
        "normed_train_data = norm(train_dataset)\n",
        "normed_test_data = norm(test_dataset)\n"
      ],
      "metadata": {
        "id": "LIyI78f8GA-i"
      },
      "execution_count": null,
      "outputs": []
    },
    {
      "cell_type": "code",
      "source": [
        "def build_model():\n",
        "    model = keras.Sequential([\n",
        "        layers.Input(shape=[len(train_dataset.keys())]),  # Use Input layer explicitly\n",
        "        layers.Dense(64, activation='relu'),\n",
        "        layers.Dense(64, activation='relu'),\n",
        "        layers.Dense(1)\n",
        "    ])\n",
        "\n",
        "    optimizer = tf.keras.optimizers.RMSprop(0.001)\n",
        "\n",
        "    model.compile(\n",
        "        loss='mse',\n",
        "        optimizer=optimizer,\n",
        "        metrics=['mae', 'mse']\n",
        "    )\n",
        "\n",
        "    return model\n",
        "\n",
        "# Build the model\n",
        "model = build_model()\n",
        "print(\"Model built successfully! ✅\")\n"
      ],
      "metadata": {
        "id": "oxxxaFJvGA6m"
      },
      "execution_count": null,
      "outputs": []
    },
    {
      "cell_type": "code",
      "source": [
        "# Evaluate the model\n",
        "loss, mae, mse = model.evaluate(test_dataset, test_labels, verbose=2)\n",
        "print(\"Testing set Mean Abs Error: {:5.2f} expenses\".format(mae))\n"
      ],
      "metadata": {
        "id": "Iuf5uBREGAyR"
      },
      "execution_count": null,
      "outputs": []
    },
    {
      "cell_type": "code",
      "source": [
        "from sklearn.preprocessing import StandardScaler\n",
        "\n",
        "# Scale the datasets\n",
        "scaler = StandardScaler()\n",
        "\n",
        "# Fit the scaler on the training dataset\n",
        "train_dataset_scaled = scaler.fit_transform(train_dataset)\n",
        "test_dataset_scaled = scaler.transform(test_dataset)\n",
        "\n",
        "# Convert the scaled datasets back into DataFrames\n",
        "train_dataset = pd.DataFrame(train_dataset_scaled, columns=train_dataset.columns)\n",
        "test_dataset = pd.DataFrame(test_dataset_scaled, columns=test_dataset.columns)\n",
        "\n",
        "print(\"✅ Features scaled successfully!\")\n"
      ],
      "metadata": {
        "id": "mRzON5VGGAZ7"
      },
      "execution_count": null,
      "outputs": []
    },
    {
      "cell_type": "code",
      "source": [
        "def build_optimized_model():\n",
        "    model = keras.Sequential([\n",
        "        layers.Input(shape=[len(train_dataset.keys())]),  # Input layer\n",
        "\n",
        "        # Hidden layers with BatchNorm and Dropout\n",
        "        layers.Dense(128, activation='relu'),\n",
        "        layers.BatchNormalization(),\n",
        "        layers.Dropout(0.2),\n",
        "\n",
        "        layers.Dense(64, activation='relu'),\n",
        "        layers.BatchNormalization(),\n",
        "        layers.Dropout(0.2),\n",
        "\n",
        "        layers.Dense(1)  # Output layer\n",
        "    ])\n",
        "\n",
        "    # Use Adam optimizer with smaller learning rate\n",
        "    optimizer = tf.keras.optimizers.Adam(learning_rate=0.001)\n",
        "\n",
        "    model.compile(\n",
        "        loss='mse',\n",
        "        optimizer=optimizer,\n",
        "        metrics=['mae', 'mse']\n",
        "    )\n",
        "\n",
        "    return model\n",
        "\n",
        "# Build the optimized model\n",
        "model = build_optimized_model()\n",
        "print(\"✅ Optimized model built successfully!\")\n"
      ],
      "metadata": {
        "id": "EXcKJ6a5Gl0e"
      },
      "execution_count": null,
      "outputs": []
    },
    {
      "cell_type": "code",
      "source": [
        "# 🛠️ Evaluate the model\n",
        "loss, mae, mse = model.evaluate(test_dataset, test_labels, verbose=2)\n",
        "print(f\"✅ Testing set Mean Abs Error: {mae:.2f} expenses\")\n"
      ],
      "metadata": {
        "id": "OhN9ABYhGlvL"
      },
      "execution_count": null,
      "outputs": []
    },
    {
      "cell_type": "code",
      "source": [
        "# 📈 Build the optimized model\n",
        "from tensorflow.keras.regularizers import l2\n",
        "\n",
        "def build_optimized_model():\n",
        "    model = keras.Sequential([\n",
        "        layers.Input(shape=[len(train_dataset.keys())]),\n",
        "        layers.Dense(128, activation='relu', kernel_regularizer=l2(0.01)),  # L2 regularization\n",
        "        layers.Dense(128, activation='relu', kernel_regularizer=l2(0.01)),\n",
        "        layers.Dense(64, activation='relu'),\n",
        "        layers.Dense(1)\n",
        "    ])\n",
        "\n",
        "    optimizer = tf.keras.optimizers.Adam(learning_rate=0.001)  # Switch to Adam\n",
        "\n",
        "    model.compile(\n",
        "        loss='mse',\n",
        "        optimizer=optimizer,\n",
        "        metrics=['mae', 'mse']\n",
        "    )\n",
        "\n",
        "    return model\n",
        "\n",
        "# ✅ Build the new model\n",
        "model = build_optimized_model()\n",
        "\n",
        "# 🔥 Train with EarlyStopping\n",
        "early_stopping = tf.keras.callbacks.EarlyStopping(monitor='val_loss', patience=20)\n",
        "\n",
        "history = model.fit(\n",
        "    train_dataset, train_labels,\n",
        "    epochs=300,\n",
        "    validation_split=0.2,\n",
        "    batch_size=32,\n",
        "    callbacks=[early_stopping],\n",
        "    verbose=1\n",
        ")\n"
      ],
      "metadata": {
        "id": "sjjXjWTbGlr_"
      },
      "execution_count": null,
      "outputs": []
    },
    {
      "cell_type": "code",
      "source": [
        "# 🛠️ Evaluate the model\n",
        "loss, mae, mse = model.evaluate(test_dataset, test_labels, verbose=2)\n",
        "print(f\"✅ Testing set Mean Abs Error: {mae:.2f} expenses\")\n"
      ],
      "metadata": {
        "id": "dRKHiVt0HOx5"
      },
      "execution_count": null,
      "outputs": []
    },
    {
      "cell_type": "code",
      "source": [
        "# 🔥 Plot predictions\n",
        "test_predictions = model.predict(test_dataset).flatten()\n",
        "\n",
        "plt.figure(figsize=(8, 8))\n",
        "plt.scatter(test_labels, test_predictions, alpha=0.5, color='blue', label='Predictions')\n",
        "plt.xlabel('True Values (expenses)')\n",
        "plt.ylabel('Predicted Values (expenses)')\n",
        "plt.title('Model Predictions vs. True Expenses')\n",
        "lims = [0, 50000]\n",
        "plt.xlim(lims)\n",
        "plt.ylim(lims)\n",
        "plt.plot(lims, lims, color='red', label='Ideal Line')  # Ideal line\n",
        "plt.grid(True)\n",
        "plt.legend()\n",
        "plt.show()\n"
      ],
      "metadata": {
        "id": "-lWKfNWgHizU"
      },
      "execution_count": null,
      "outputs": []
    },
    {
      "cell_type": "code",
      "source": [
        "# 🔥 Plot predictions\n",
        "test_predictions = model.predict(test_dataset).flatten()\n",
        "\n",
        "plt.figure(figsize=(8, 8))\n",
        "plt.scatter(test_labels, test_predictions, alpha=0.5, color='blue', label='Predictions')\n",
        "plt.xlabel('True Values (expenses)')\n",
        "plt.ylabel('Predicted Values (expenses)')\n",
        "plt.title('Model Predictions vs. True Expenses')\n",
        "lims = [0, 50000]\n",
        "plt.xlim(lims)\n",
        "plt.ylim(lims)\n",
        "plt.plot(lims, lims, color='red', label='Ideal Line')  # Ideal line\n",
        "plt.grid(True)\n",
        "plt.legend()\n",
        "plt.show()\n"
      ],
      "metadata": {
        "id": "vqfJ6-zMHpbW"
      },
      "execution_count": null,
      "outputs": []
    },
    {
      "cell_type": "code",
      "execution_count": null,
      "metadata": {
        "id": "Xe7RXH3N3CWU"
      },
      "outputs": [],
      "source": [
        "# RUN THIS CELL TO TEST YOUR MODEL. DO NOT MODIFY CONTENTS.\n",
        "# Test model by checking how well the model generalizes using the test set.\n",
        "loss, mae, mse = model.evaluate(test_dataset, test_labels, verbose=2)\n",
        "\n",
        "print(\"Testing set Mean Abs Error: {:5.2f} expenses\".format(mae))\n",
        "\n",
        "if mae < 3500:\n",
        "  print(\"You passed the challenge. Great job!\")\n",
        "else:\n",
        "  print(\"The Mean Abs Error must be less than 3500. Keep trying.\")\n",
        "\n",
        "# Plot predictions.\n",
        "test_predictions = model.predict(test_dataset).flatten()\n",
        "\n",
        "a = plt.axes(aspect='equal')\n",
        "plt.scatter(test_labels, test_predictions)\n",
        "plt.xlabel('True values (expenses)')\n",
        "plt.ylabel('Predictions (expenses)')\n",
        "lims = [0, 50000]\n",
        "plt.xlim(lims)\n",
        "plt.ylim(lims)\n",
        "_ = plt.plot(lims,lims)\n"
      ]
    }
  ],
  "metadata": {
    "colab": {
      "private_outputs": true,
      "provenance": [],
      "include_colab_link": true
    },
    "kernelspec": {
      "display_name": "Python 3",
      "name": "python3"
    }
  },
  "nbformat": 4,
  "nbformat_minor": 0
}